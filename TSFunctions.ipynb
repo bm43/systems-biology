{
 "cells": [
  {
   "cell_type": "code",
   "execution_count": 12,
   "metadata": {},
   "outputs": [],
   "source": [
    "import numpy as np\n",
    "from scipy.integrate import odeint\n",
    "import matplotlib.pyplot as plt \n",
    "import math\n",
    "from scipy.optimize import fsolve\n",
    "import scipy.linalg as la\n",
    "import autograd.numpy as np\n",
    "from autograd import jacobian\n",
    "from tqdm import tqdm"
   ]
  },
  {
   "cell_type": "code",
   "execution_count": 13,
   "metadata": {},
   "outputs": [],
   "source": [
    "def getSteadyPoints(params):\n",
    "    '''This Function takes in the parameters for the Toggle Switch Model and returns a list of steady points.\n",
    "    \n",
    "    First the TS equations are defined. Then for a range of initial guesses, the fixed points are computed \n",
    "    using fsovle. These are stored in a list that is then converted to set to remove all duplicate values. \n",
    "    The set is then converted back to list and returned.                                               '''\n",
    "    \n",
    "    # Unpacking the params list.\n",
    "    alpha1 = params[0]\n",
    "    alpha2 = params[1]\n",
    "    beta = params[2]\n",
    "    gamma = params[3]\n",
    "    \n",
    "    # Defining the TS equations for use with fsolve\n",
    "    def equations(p):\n",
    "        U ,V = p\n",
    "        return (((alpha1/(1+V**beta))-U), ((alpha2/(1+U**gamma))-V))\n",
    "\n",
    "    # Using fsolve with a range of initial conditions to get steady points.\n",
    "    sp=[]\n",
    "    for n in range(0,10):\n",
    "        for i in range(0,10):\n",
    "            sol, info, ier, msg = fsolve(equations, [n,i], full_output=True)\n",
    "            if (ier == 1):\n",
    "                temp = tuple(np.round(sol,4))\n",
    "                sp.append(temp)\n",
    "        \n",
    "\n",
    "    # Removing all duplicates by creating a set. \n",
    "    sp_set = set(sp)\n",
    "    sp_list = list(sp_set)\n",
    "    return sp_list"
   ]
  },
  {
   "cell_type": "code",
   "execution_count": 14,
   "metadata": {},
   "outputs": [],
   "source": [
    "def getEigenvalues(steadypoints,params):\n",
    "    '''This Function takes the steady points and parameters, and returns an array of eigenvalues correspoinding\n",
    "    to the eigenvalues at each of the steady points\n",
    "    \n",
    "    The Jacobian Matrix is defined. For each steady point the eigenvalues and eigenvectors are computed, \n",
    "    and the eigenvalues are appended to a list that is returned. \n",
    "                                                                                                        '''\n",
    "    alpha1 = params[0]\n",
    "    alpha2 = params[1]\n",
    "    beta = params[2]\n",
    "    gamma = params[3]\n",
    "    no_steadyp = len(steadypoints)\n",
    "    \n",
    "    \n",
    "    # Defining Jacobian Matrix\n",
    "    def Jacobian(U,V,alpha1,alpha2,beta,gamma):\n",
    "        return ([-1,(-1*alpha1*beta*(V**(beta-1)))/((1+(V**beta))**2)],[(-1*alpha2*gamma*(U**(gamma-1)))/((1+(U**gamma))**2),-1])\n",
    "    Usp = []\n",
    "    Vsp = []\n",
    "    EV_list = []\n",
    "    for i in range (0,no_steadyp):\n",
    "        x_s,y_s = steadypoints[i]\n",
    "        Usp.append(x_s)\n",
    "        Vsp.append(y_s)\n",
    "        J1 = np.array(Jacobian(Usp[i],Vsp[i],alpha1,alpha2,beta,gamma))\n",
    "        eigVals,eigvecs = la.eig(J1)\n",
    "        EV_list.append(eigVals)\n",
    "\n",
    "    return EV_list\n",
    "    "
   ]
  },
  {
   "cell_type": "code",
   "execution_count": 15,
   "metadata": {},
   "outputs": [],
   "source": [
    "def isToggle(params):\n",
    "    '''This Function takes in the Toggle Switch Parameters and returns 1 if those set of paremeters give a Toggle\n",
    "    switch and returns 0 if the parameters dont give a Toggle Switch.\n",
    "    \n",
    "    '''\n",
    "    soln = getSteadyPoints(params)\n",
    "    eigvals = getEigenvalues(soln,params)\n",
    "    sp = 0\n",
    "\n",
    "    \n",
    "    for i in range(0,len(soln)):\n",
    "        if (eigvals[i][0]<0 and eigvals[i][1]<0):\n",
    "                sp = sp + 1\n",
    "    \n",
    "    ans = 0\n",
    "    if (sp == 2): ans = 1\n",
    "    \n",
    "    return ans"
   ]
  },
  {
   "cell_type": "code",
   "execution_count": 16,
   "metadata": {},
   "outputs": [
    {
     "name": "stdout",
     "output_type": "stream",
     "text": [
      "1\n"
     ]
    }
   ],
   "source": [
    "# Testing The Functions\n",
    "\n",
    "alpha1 = 10\n",
    "alpha2 = 10\n",
    "beta = 2\n",
    "gamma = 2\n",
    "params = [alpha1,alpha2,beta,gamma]\n",
    "\n",
    "steady_points = getSteadyPoints(params)\n",
    "a = isToggle(params)\n",
    "print(a)\n",
    "\n",
    "\n",
    "    "
   ]
  },
  {
   "cell_type": "code",
   "execution_count": 17,
   "metadata": {},
   "outputs": [
    {
     "name": "stderr",
     "output_type": "stream",
     "text": [
      "  0%|                                                                                          | 0/240 [00:00<?, ?it/s]c:\\program files\\python36\\lib\\site-packages\\ipykernel_launcher.py:17: RuntimeWarning: invalid value encountered in double_scalars\n",
      "100%|████████████████████████████████████████████████████████████████████████████████| 240/240 [15:10<00:00,  3.73s/it]\n"
     ]
    },
    {
     "data": {
      "text/plain": [
       "Text(0, 0.5, 'alpha1')"
      ]
     },
     "execution_count": 17,
     "metadata": {},
     "output_type": "execute_result"
    },
    {
     "data": {
      "image/png": "[encoded data removed]",
      "text/plain": [
       "<Figure size 432x288 with 1 Axes>"
      ]
     },
     "metadata": {
      "needs_background": "light"
     },
     "output_type": "display_data"
    }
   ],
   "source": [
    "# Bifurcation Diagram:\n",
    "size = 12\n",
    "step = 0.05\n",
    "values = np.arange(0,size,step)\n",
    "l = (len(values))\n",
    "B_List = np.zeros((l,l))\n",
    "\n",
    "for a1 in tqdm(values):\n",
    "    for a2 in values:\n",
    "        ia1 = np.where(values==a1)\n",
    "        ia2 = np.where(values==a2)\n",
    "        a1index = int(ia1[0])\n",
    "        a2index = int(ia2[0])\n",
    "        \n",
    "        B_List[a1index][a2index] = isToggle([a1,a2,1,1.5])\n",
    "plt.imshow(B_List,origin='lower',extent=[0.0,12,0.0,12])\n",
    "plt.xlabel('alpha2')\n",
    "plt.ylabel('alpha1')"
   ]
  },
  {
   "cell_type": "code",
   "execution_count": null,
   "metadata": {},
   "outputs": [],
   "source": [
    "#beta =1 and gamma =1.5 -> no region of toggle switch"
   ]
  }
 ],
 "metadata": {
  "kernelspec": {
   "display_name": "Python 3",
   "language": "python",
   "name": "python3"
  },
  "language_info": {
   "codemirror_mode": {
    "name": "ipython",
    "version": 3
   },
   "file_extension": ".py",
   "mimetype": "text/x-python",
   "name": "python",
   "nbconvert_exporter": "python",
   "pygments_lexer": "ipython3",
   "version": "3.6.6"
  }
 },
 "nbformat": 4,
 "nbformat_minor": 2
}
