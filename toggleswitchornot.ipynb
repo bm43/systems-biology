{
 "cells": [
  {
   "cell_type": "code",
   "execution_count": 16,
   "metadata": {},
   "outputs": [],
   "source": [
    "import numpy as np\n",
    "import matplotlib.pyplot as plt\n",
    "from scipy.optimize import fsolve"
   ]
  },
  {
   "cell_type": "code",
   "execution_count": 17,
   "metadata": {},
   "outputs": [
    {
     "name": "stdout",
     "output_type": "stream",
     "text": [
      "[1, 1, 0]\n",
      "[(0.1010205144, 9.8989794856), (9.8989794856, 0.1010205144), (2.0, 2.0)]\n"
     ]
    }
   ],
   "source": [
    "a1=10\n",
    "a2=10\n",
    "b=2\n",
    "g=2\n",
    "s=[]\n",
    "def myFunction(z):\n",
    "   u = z[0]\n",
    "   v = z[1]\n",
    "   \n",
    "\n",
    "   F = np.empty((2))\n",
    "   F[0] = a1/(1+v**b) - u\n",
    "   F[1] = a2/(1+u**g) - v\n",
    "   \n",
    "   return F\n",
    "\n",
    "def J(u,v):\n",
    "    j=[[-1, (-a1*b*v**(b-1))/(1+v**b)**2], [(-a2*g*u**(g-1))/(1+u**g)**2,-1]]\n",
    "    #print(j)\n",
    "    \n",
    "    return j\n",
    "\n",
    "for i in range(10):\n",
    "    for j in range(10):\n",
    "        zGuess=[i,j]\n",
    "        z=fsolve(myFunction,zGuess,full_output=True,xtol=10**-20)\n",
    "        x=[np.around(z[0][0],decimals=10),np.around(z[0][1],decimals=10)]\n",
    "        s.append(tuple(x))\n",
    "S=list(set(s))\n",
    "\n",
    "x=[]\n",
    "for s in S:\n",
    "    x.append(J(s[0],s[1]))#apply J to each tuple in S\n",
    "#print(x)\n",
    "a=[]\n",
    "for i in x:\n",
    "    v=np.linalg.eigvals(i)\n",
    "    a.append(v)\n",
    "    #print(v)\n",
    "a=np.array(a)\n",
    "\n",
    "#print(a)\n",
    "\n",
    "c=[]\n",
    "def bool(a,c):\n",
    "    for aa in a:\n",
    "        if aa[0]<0 and aa[1]<0:\n",
    "            c.append(1)#stable\n",
    "        else:\n",
    "            c.append(0)#unstable\n",
    "    print(c)\n",
    "bool(a,c)\n",
    "print(S)\n",
    "#stable if all the element has neg real part"
   ]
  },
  {
   "cell_type": "code",
   "execution_count": 20,
   "metadata": {},
   "outputs": [
    {
     "name": "stdout",
     "output_type": "stream",
     "text": [
      "[[-1.80025169e-03 -1.99819975e+00]\n",
      " [-4.43957966e-04 -1.99955604e+00]\n",
      " [-5.96215905e-01 -1.40378410e+00]\n",
      " [ 4.08191601e-03 -2.00408192e+00]]\n",
      "0\n"
     ]
    }
   ],
   "source": [
    "# function with input = values of a1 and a2\n",
    "#output is true/false checking eigenvalue signs\n",
    "def bif(a1,a2):\n",
    "    alpha1=a1\n",
    "    alpha2=a2\n",
    "    def myFunction(z):\n",
    "       u = z[0]\n",
    "       v = z[1]\n",
    "\n",
    "\n",
    "       F = np.empty((2))\n",
    "       F[0] = a1/(1+v**b) - u\n",
    "       F[1] = a2/(1+u**g) - v\n",
    "\n",
    "       return F\n",
    "\n",
    "    def J(u,v):\n",
    "        j=[[-1, (-a1*b*v**(b-1))/(1+v**b)**2], [(-a2*g*u**(g-1))/(1+u**g)**2,-1]]\n",
    "        #print(j)\n",
    "\n",
    "        return j\n",
    "    s=[]\n",
    "    for i in range(10):\n",
    "        for j in range(10):\n",
    "            zGuess=[i,j]\n",
    "            z=fsolve(myFunction,zGuess,full_output=True,xtol=10**-20)\n",
    "            x=[np.around(z[0][0],decimals=2),np.around(z[0][1],decimals=2)]\n",
    "            s.append(tuple(x))\n",
    "    S=list(set(s))\n",
    "\n",
    "    x=[]\n",
    "    for s in S:\n",
    "        x.append(J(s[0],s[1]))#apply J to each tuple in S\n",
    "    #print(x)\n",
    "    eig=[]\n",
    "    for i in x:\n",
    "        v=np.linalg.eigvals(i)\n",
    "        eig.append(v)\n",
    "        #print(v)\n",
    "    eig=np.array(eig)\n",
    "    #example eig: [-0.7 -0.23]\n",
    "    print(eig)\n",
    "#negative realpart means stable\n",
    "    c=[]\n",
    "    def bool(a,c):\n",
    "        for aa in eig:\n",
    "            for aaa in aa:\n",
    "                if aaa>0:\n",
    "                    return 0\n",
    "        return 1\n",
    "    return bool(a,c)\n",
    "\n",
    "print(bif(2,3))"
   ]
  },
  {
   "cell_type": "code",
   "execution_count": 12,
   "metadata": {},
   "outputs": [
    {
     "name": "stdout",
     "output_type": "stream",
     "text": [
      "[[1, 1, 1, 1, 1, 1, 1, 1, 1, 1, 1, 1, 1], [1, 1, 1, 1, 1, 1, 1, 1, 1, 1, 1, 1, 1], [1, 1, 1, 0, 0, 0, 0, 0, 0, 0, 0, 0, 0], [1, 1, 0, 0, 0, 1, 0, 0, 0, 1, 0, 0, 0], [1, 1, 0, 0, 0, 0, 0, 1, 1, 0, 0, 0, 0], [1, 1, 0, 1, 0, 0, 0, 0, 0, 0, 0, 0, 0], [1, 1, 0, 0, 0, 0, 0, 0, 0, 0, 0, 0, 0], [1, 1, 0, 0, 1, 0, 0, 0, 0, 0, 0, 0, 0], [1, 1, 0, 0, 1, 0, 0, 0, 0, 0, 0, 0, 0], [1, 1, 0, 1, 0, 0, 0, 0, 0, 0, 0, 0, 0], [1, 1, 0, 0, 0, 0, 0, 0, 0, 0, 0, 0, 0], [1, 1, 0, 0, 0, 0, 0, 0, 0, 0, 0, 0, 0], [1, 1, 0, 0, 0, 0, 0, 0, 0, 0, 0, 0, 0]]\n"
     ]
    },
    {
     "data": {
      "image/png": "[encoded data removed]",
      "text/plain": [
       "<Figure size 432x288 with 1 Axes>"
      ]
     },
     "metadata": {
      "needs_background": "light"
     },
     "output_type": "display_data"
    }
   ],
   "source": [
    "# bifurcation\n",
    "alphas1=np.array(range(13))\n",
    "alphas2=np.array(range(13))\n",
    "\n",
    "row=[]\n",
    "bifmatrix=[]\n",
    "for a1 in alphas1:\n",
    "    for a2 in alphas2:\n",
    "        row.append(bif(a1,a2))\n",
    "        \n",
    "    bifmatrix.append(row)\n",
    "    row=[]\n",
    "    \n",
    "plt.imshow(bifmatrix)\n",
    "print(bifmatrix)"
   ]
  },
  {
   "cell_type": "code",
   "execution_count": null,
   "metadata": {},
   "outputs": [],
   "source": []
  }
 ],
 "metadata": {
  "kernelspec": {
   "display_name": "Python 3",
   "language": "python",
   "name": "python3"
  },
  "language_info": {
   "codemirror_mode": {
    "name": "ipython",
    "version": 3
   },
   "file_extension": ".py",
   "mimetype": "text/x-python",
   "name": "python",
   "nbconvert_exporter": "python",
   "pygments_lexer": "ipython3",
   "version": "3.6.6"
  }
 },
 "nbformat": 4,
 "nbformat_minor": 2
}
